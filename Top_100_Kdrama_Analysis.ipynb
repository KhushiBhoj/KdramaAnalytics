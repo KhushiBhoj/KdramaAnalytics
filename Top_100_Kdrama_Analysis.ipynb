{
  "nbformat": 4,
  "nbformat_minor": 0,
  "metadata": {
    "colab": {
      "provenance": []
    },
    "kernelspec": {
      "name": "python3",
      "display_name": "Python 3"
    },
    "language_info": {
      "name": "python"
    }
  },
  "cells": [
    {
      "cell_type": "markdown",
      "source": [
        "# **Importing**"
      ],
      "metadata": {
        "id": "egO8Qoa4gW2W"
      }
    },
    {
      "cell_type": "code",
      "execution_count": 1,
      "metadata": {
        "id": "-1zeEZ_0gQI9"
      },
      "outputs": [],
      "source": [
        "import pandas as pd\n",
        "import numpy as np\n",
        "import matplotlib.pyplot as plt\n",
        "import seaborn as sns"
      ]
    },
    {
      "cell_type": "code",
      "source": [
        "df = pd.read_csv('top100_kdrama.csv')\n",
        "df.head()"
      ],
      "metadata": {
        "id": "smrqkimtgq9m",
        "outputId": "caf29cb5-3e43-4402-940b-99aa2f23ffc2",
        "colab": {
          "base_uri": "https://localhost:8080/",
          "height": 892
        }
      },
      "execution_count": 2,
      "outputs": [
        {
          "output_type": "execute_result",
          "data": {
            "text/plain": [
              "                Name  Year of release                   Aired Date  \\\n",
              "0     Move to Heaven             2021                 May 14, 2021   \n",
              "1  Hospital Playlist             2020  Mar 12, 2020 - May 28, 2020   \n",
              "2     Flower of Evil             2020  Jul 29, 2020 - Sep 23, 2020   \n",
              "3          My Mister             2018  Mar 21, 2018 - May 17, 2018   \n",
              "4    Prison Playbook             2017  Nov 22, 2017 - Jan 18, 2018   \n",
              "\n",
              "               Aired On  Number of Episode  \\\n",
              "0                Friday                 10   \n",
              "1              Thursday                 12   \n",
              "2   Wednesday, Thursday                 16   \n",
              "3   Wednesday, Thursday                 16   \n",
              "4   Wednesday, Thursday                 16   \n",
              "\n",
              "                                        Network       Duration  \\\n",
              "0        Netflix,  Netflix,  Netflix,  Netflix         52 min.   \n",
              "1  tvN,  Netflix,  Netflix,  Netflix,  Netflix   1 hr. 30 min.   \n",
              "2                                          tvN   1 hr. 10 min.   \n",
              "3                                          tvN   1 hr. 17 min.   \n",
              "4  tvN,  Netflix,  Netflix,  Netflix,  Netflix   1 hr. 32 min.   \n",
              "\n",
              "                           Content Rating  \\\n",
              "0  18+ Restricted (violence & profanity)    \n",
              "1                15+ - Teens 15 or older    \n",
              "2                15+ - Teens 15 or older    \n",
              "3                15+ - Teens 15 or older    \n",
              "4                15+ - Teens 15 or older    \n",
              "\n",
              "                                            Synopsis  \\\n",
              "0  Geu Roo is a young autistic man. He works for ...   \n",
              "1  The stories of people going through their days...   \n",
              "2  Although Baek Hee Sung is hiding a dark secret...   \n",
              "3  Park Dong Hoon is a middle-aged engineer who i...   \n",
              "4  Kim Je Hyuk, a famous baseball player, is arre...   \n",
              "\n",
              "                                                Cast  \\\n",
              "0  Lee Je Hoon, Tang Jun Sang, Hong Seung Hee, Ju...   \n",
              "1  Jo Jung Suk, Yoo Yeon Seok, Jung Kyung Ho, Kim...   \n",
              "2  Lee Joon Gi, Moon Chae Won, Jang Hee Jin, Seo ...   \n",
              "3  Lee Sun Kyun, IU, Park Ho San, Song Sae Byuk, ...   \n",
              "4  Park Hae Soo, Jung Kyung Ho, Krystal, Im Hwa Y...   \n",
              "\n",
              "                                               Genre  \\\n",
              "0                             Life,  Drama,  Family    \n",
              "1             Friendship,  Romance,  Life,  Medical    \n",
              "2            Thriller,  Romance,  Crime,  Melodrama    \n",
              "3  Business,  Psychological,  Life,  Drama,  Family    \n",
              "4                             Comedy,  Life,  Drama    \n",
              "\n",
              "                                                Tags Rank  Rating  \n",
              "0  Autism, Father-Son Relationship, Uncle-Nephew ...   #1     9.2  \n",
              "1  Strong Friendship, Doctor, Multiple Mains, Slo...   #2     9.1  \n",
              "2  Married Couple, Deception, Suspense, Family Se...   #3     9.1  \n",
              "3  Nice Male Lead, Strong Female Lead, Hardship, ...   #4     9.1  \n",
              "4  Prison, Bromance, Wrongfully Accused, Life Les...   #5     9.1  "
            ],
            "text/html": [
              "\n",
              "  <div id=\"df-4adba6f4-ee77-4566-b245-13259a6c4515\">\n",
              "    <div class=\"colab-df-container\">\n",
              "      <div>\n",
              "<style scoped>\n",
              "    .dataframe tbody tr th:only-of-type {\n",
              "        vertical-align: middle;\n",
              "    }\n",
              "\n",
              "    .dataframe tbody tr th {\n",
              "        vertical-align: top;\n",
              "    }\n",
              "\n",
              "    .dataframe thead th {\n",
              "        text-align: right;\n",
              "    }\n",
              "</style>\n",
              "<table border=\"1\" class=\"dataframe\">\n",
              "  <thead>\n",
              "    <tr style=\"text-align: right;\">\n",
              "      <th></th>\n",
              "      <th>Name</th>\n",
              "      <th>Year of release</th>\n",
              "      <th>Aired Date</th>\n",
              "      <th>Aired On</th>\n",
              "      <th>Number of Episode</th>\n",
              "      <th>Network</th>\n",
              "      <th>Duration</th>\n",
              "      <th>Content Rating</th>\n",
              "      <th>Synopsis</th>\n",
              "      <th>Cast</th>\n",
              "      <th>Genre</th>\n",
              "      <th>Tags</th>\n",
              "      <th>Rank</th>\n",
              "      <th>Rating</th>\n",
              "    </tr>\n",
              "  </thead>\n",
              "  <tbody>\n",
              "    <tr>\n",
              "      <th>0</th>\n",
              "      <td>Move to Heaven</td>\n",
              "      <td>2021</td>\n",
              "      <td>May 14, 2021</td>\n",
              "      <td>Friday</td>\n",
              "      <td>10</td>\n",
              "      <td>Netflix,  Netflix,  Netflix,  Netflix</td>\n",
              "      <td>52 min.</td>\n",
              "      <td>18+ Restricted (violence &amp; profanity)</td>\n",
              "      <td>Geu Roo is a young autistic man. He works for ...</td>\n",
              "      <td>Lee Je Hoon, Tang Jun Sang, Hong Seung Hee, Ju...</td>\n",
              "      <td>Life,  Drama,  Family</td>\n",
              "      <td>Autism, Father-Son Relationship, Uncle-Nephew ...</td>\n",
              "      <td>#1</td>\n",
              "      <td>9.2</td>\n",
              "    </tr>\n",
              "    <tr>\n",
              "      <th>1</th>\n",
              "      <td>Hospital Playlist</td>\n",
              "      <td>2020</td>\n",
              "      <td>Mar 12, 2020 - May 28, 2020</td>\n",
              "      <td>Thursday</td>\n",
              "      <td>12</td>\n",
              "      <td>tvN,  Netflix,  Netflix,  Netflix,  Netflix</td>\n",
              "      <td>1 hr. 30 min.</td>\n",
              "      <td>15+ - Teens 15 or older</td>\n",
              "      <td>The stories of people going through their days...</td>\n",
              "      <td>Jo Jung Suk, Yoo Yeon Seok, Jung Kyung Ho, Kim...</td>\n",
              "      <td>Friendship,  Romance,  Life,  Medical</td>\n",
              "      <td>Strong Friendship, Doctor, Multiple Mains, Slo...</td>\n",
              "      <td>#2</td>\n",
              "      <td>9.1</td>\n",
              "    </tr>\n",
              "    <tr>\n",
              "      <th>2</th>\n",
              "      <td>Flower of Evil</td>\n",
              "      <td>2020</td>\n",
              "      <td>Jul 29, 2020 - Sep 23, 2020</td>\n",
              "      <td>Wednesday, Thursday</td>\n",
              "      <td>16</td>\n",
              "      <td>tvN</td>\n",
              "      <td>1 hr. 10 min.</td>\n",
              "      <td>15+ - Teens 15 or older</td>\n",
              "      <td>Although Baek Hee Sung is hiding a dark secret...</td>\n",
              "      <td>Lee Joon Gi, Moon Chae Won, Jang Hee Jin, Seo ...</td>\n",
              "      <td>Thriller,  Romance,  Crime,  Melodrama</td>\n",
              "      <td>Married Couple, Deception, Suspense, Family Se...</td>\n",
              "      <td>#3</td>\n",
              "      <td>9.1</td>\n",
              "    </tr>\n",
              "    <tr>\n",
              "      <th>3</th>\n",
              "      <td>My Mister</td>\n",
              "      <td>2018</td>\n",
              "      <td>Mar 21, 2018 - May 17, 2018</td>\n",
              "      <td>Wednesday, Thursday</td>\n",
              "      <td>16</td>\n",
              "      <td>tvN</td>\n",
              "      <td>1 hr. 17 min.</td>\n",
              "      <td>15+ - Teens 15 or older</td>\n",
              "      <td>Park Dong Hoon is a middle-aged engineer who i...</td>\n",
              "      <td>Lee Sun Kyun, IU, Park Ho San, Song Sae Byuk, ...</td>\n",
              "      <td>Business,  Psychological,  Life,  Drama,  Family</td>\n",
              "      <td>Nice Male Lead, Strong Female Lead, Hardship, ...</td>\n",
              "      <td>#4</td>\n",
              "      <td>9.1</td>\n",
              "    </tr>\n",
              "    <tr>\n",
              "      <th>4</th>\n",
              "      <td>Prison Playbook</td>\n",
              "      <td>2017</td>\n",
              "      <td>Nov 22, 2017 - Jan 18, 2018</td>\n",
              "      <td>Wednesday, Thursday</td>\n",
              "      <td>16</td>\n",
              "      <td>tvN,  Netflix,  Netflix,  Netflix,  Netflix</td>\n",
              "      <td>1 hr. 32 min.</td>\n",
              "      <td>15+ - Teens 15 or older</td>\n",
              "      <td>Kim Je Hyuk, a famous baseball player, is arre...</td>\n",
              "      <td>Park Hae Soo, Jung Kyung Ho, Krystal, Im Hwa Y...</td>\n",
              "      <td>Comedy,  Life,  Drama</td>\n",
              "      <td>Prison, Bromance, Wrongfully Accused, Life Les...</td>\n",
              "      <td>#5</td>\n",
              "      <td>9.1</td>\n",
              "    </tr>\n",
              "  </tbody>\n",
              "</table>\n",
              "</div>\n",
              "      <button class=\"colab-df-convert\" onclick=\"convertToInteractive('df-4adba6f4-ee77-4566-b245-13259a6c4515')\"\n",
              "              title=\"Convert this dataframe to an interactive table.\"\n",
              "              style=\"display:none;\">\n",
              "        \n",
              "  <svg xmlns=\"http://www.w3.org/2000/svg\" height=\"24px\"viewBox=\"0 0 24 24\"\n",
              "       width=\"24px\">\n",
              "    <path d=\"M0 0h24v24H0V0z\" fill=\"none\"/>\n",
              "    <path d=\"M18.56 5.44l.94 2.06.94-2.06 2.06-.94-2.06-.94-.94-2.06-.94 2.06-2.06.94zm-11 1L8.5 8.5l.94-2.06 2.06-.94-2.06-.94L8.5 2.5l-.94 2.06-2.06.94zm10 10l.94 2.06.94-2.06 2.06-.94-2.06-.94-.94-2.06-.94 2.06-2.06.94z\"/><path d=\"M17.41 7.96l-1.37-1.37c-.4-.4-.92-.59-1.43-.59-.52 0-1.04.2-1.43.59L10.3 9.45l-7.72 7.72c-.78.78-.78 2.05 0 2.83L4 21.41c.39.39.9.59 1.41.59.51 0 1.02-.2 1.41-.59l7.78-7.78 2.81-2.81c.8-.78.8-2.07 0-2.86zM5.41 20L4 18.59l7.72-7.72 1.47 1.35L5.41 20z\"/>\n",
              "  </svg>\n",
              "      </button>\n",
              "      \n",
              "  <style>\n",
              "    .colab-df-container {\n",
              "      display:flex;\n",
              "      flex-wrap:wrap;\n",
              "      gap: 12px;\n",
              "    }\n",
              "\n",
              "    .colab-df-convert {\n",
              "      background-color: #E8F0FE;\n",
              "      border: none;\n",
              "      border-radius: 50%;\n",
              "      cursor: pointer;\n",
              "      display: none;\n",
              "      fill: #1967D2;\n",
              "      height: 32px;\n",
              "      padding: 0 0 0 0;\n",
              "      width: 32px;\n",
              "    }\n",
              "\n",
              "    .colab-df-convert:hover {\n",
              "      background-color: #E2EBFA;\n",
              "      box-shadow: 0px 1px 2px rgba(60, 64, 67, 0.3), 0px 1px 3px 1px rgba(60, 64, 67, 0.15);\n",
              "      fill: #174EA6;\n",
              "    }\n",
              "\n",
              "    [theme=dark] .colab-df-convert {\n",
              "      background-color: #3B4455;\n",
              "      fill: #D2E3FC;\n",
              "    }\n",
              "\n",
              "    [theme=dark] .colab-df-convert:hover {\n",
              "      background-color: #434B5C;\n",
              "      box-shadow: 0px 1px 3px 1px rgba(0, 0, 0, 0.15);\n",
              "      filter: drop-shadow(0px 1px 2px rgba(0, 0, 0, 0.3));\n",
              "      fill: #FFFFFF;\n",
              "    }\n",
              "  </style>\n",
              "\n",
              "      <script>\n",
              "        const buttonEl =\n",
              "          document.querySelector('#df-4adba6f4-ee77-4566-b245-13259a6c4515 button.colab-df-convert');\n",
              "        buttonEl.style.display =\n",
              "          google.colab.kernel.accessAllowed ? 'block' : 'none';\n",
              "\n",
              "        async function convertToInteractive(key) {\n",
              "          const element = document.querySelector('#df-4adba6f4-ee77-4566-b245-13259a6c4515');\n",
              "          const dataTable =\n",
              "            await google.colab.kernel.invokeFunction('convertToInteractive',\n",
              "                                                     [key], {});\n",
              "          if (!dataTable) return;\n",
              "\n",
              "          const docLinkHtml = 'Like what you see? Visit the ' +\n",
              "            '<a target=\"_blank\" href=https://colab.research.google.com/notebooks/data_table.ipynb>data table notebook</a>'\n",
              "            + ' to learn more about interactive tables.';\n",
              "          element.innerHTML = '';\n",
              "          dataTable['output_type'] = 'display_data';\n",
              "          await google.colab.output.renderOutput(dataTable, element);\n",
              "          const docLink = document.createElement('div');\n",
              "          docLink.innerHTML = docLinkHtml;\n",
              "          element.appendChild(docLink);\n",
              "        }\n",
              "      </script>\n",
              "    </div>\n",
              "  </div>\n",
              "  "
            ]
          },
          "metadata": {},
          "execution_count": 2
        }
      ]
    },
    {
      "cell_type": "code",
      "source": [
        "df.columns"
      ],
      "metadata": {
        "id": "Jgfwnsg0g1Pd",
        "outputId": "e9b3d54b-b8d5-45d5-b968-02b5156ec7fb",
        "colab": {
          "base_uri": "https://localhost:8080/"
        }
      },
      "execution_count": 3,
      "outputs": [
        {
          "output_type": "execute_result",
          "data": {
            "text/plain": [
              "Index(['Name', 'Year of release', 'Aired Date', 'Aired On',\n",
              "       'Number of Episode', 'Network', 'Duration', 'Content Rating',\n",
              "       'Synopsis', 'Cast', 'Genre', 'Tags', 'Rank', 'Rating'],\n",
              "      dtype='object')"
            ]
          },
          "metadata": {},
          "execution_count": 3
        }
      ]
    },
    {
      "cell_type": "code",
      "source": [
        "df.info()"
      ],
      "metadata": {
        "id": "7qwXA3Iig8yY",
        "outputId": "2d6aeef9-76fe-4dbb-be14-ddedcfe9a536",
        "colab": {
          "base_uri": "https://localhost:8080/"
        }
      },
      "execution_count": 4,
      "outputs": [
        {
          "output_type": "stream",
          "name": "stdout",
          "text": [
            "<class 'pandas.core.frame.DataFrame'>\n",
            "RangeIndex: 100 entries, 0 to 99\n",
            "Data columns (total 14 columns):\n",
            " #   Column             Non-Null Count  Dtype  \n",
            "---  ------             --------------  -----  \n",
            " 0   Name               100 non-null    object \n",
            " 1   Year of release    100 non-null    int64  \n",
            " 2   Aired Date         100 non-null    object \n",
            " 3   Aired On           100 non-null    object \n",
            " 4   Number of Episode  100 non-null    int64  \n",
            " 5   Network            100 non-null    object \n",
            " 6   Duration           100 non-null    object \n",
            " 7   Content Rating     100 non-null    object \n",
            " 8   Synopsis           100 non-null    object \n",
            " 9   Cast               100 non-null    object \n",
            " 10  Genre              100 non-null    object \n",
            " 11  Tags               100 non-null    object \n",
            " 12  Rank               100 non-null    object \n",
            " 13  Rating             100 non-null    float64\n",
            "dtypes: float64(1), int64(2), object(11)\n",
            "memory usage: 11.1+ KB\n"
          ]
        }
      ]
    },
    {
      "cell_type": "markdown",
      "source": [
        "# **Data Analytics**"
      ],
      "metadata": {
        "id": "5h6IZD4KhVLW"
      }
    },
    {
      "cell_type": "markdown",
      "source": [
        "**Year of Release**"
      ],
      "metadata": {
        "id": "U3Eg19GXhYXx"
      }
    },
    {
      "cell_type": "code",
      "source": [
        "plt.figure(figsize=(7,7))\n",
        "\n",
        "df['Year of release'].value_counts().plot(kind='barh')\n",
        "\n",
        "plt.gca().invert_yaxis()\n",
        "plt.title(\"Year of Release\")\n",
        "plt.xlabel('Frequency')\n",
        "plt.show()\n",
        "\n",
        "df['Year of release'].value_counts()"
      ],
      "metadata": {
        "id": "s0di-4A-hbip",
        "outputId": "1e67c662-fa29-4c8f-9f2e-29fe10d730fc",
        "colab": {
          "base_uri": "https://localhost:8080/",
          "height": 698
        }
      },
      "execution_count": 5,
      "outputs": [
        {
          "output_type": "display_data",
          "data": {
            "text/plain": [
              "<Figure size 504x504 with 1 Axes>"
            ],
            "image/png": "[encoded data removed]"
          },
          "metadata": {
            "needs_background": "light"
          }
        },
        {
          "output_type": "execute_result",
          "data": {
            "text/plain": [
              "2020    20\n",
              "2017    17\n",
              "2019    17\n",
              "2018    11\n",
              "2021    10\n",
              "2016     9\n",
              "2013     5\n",
              "2014     4\n",
              "2015     3\n",
              "2012     2\n",
              "2003     1\n",
              "2011     1\n",
              "Name: Year of release, dtype: int64"
            ]
          },
          "metadata": {},
          "execution_count": 5
        }
      ]
    },
    {
      "cell_type": "markdown",
      "source": [
        "**Day of Release**"
      ],
      "metadata": {
        "id": "WNhxBhWodeyF"
      }
    },
    {
      "cell_type": "code",
      "source": [
        "days = []\n",
        "[days.append(list(set(day.replace(' ','').split(',')))) for day in df['Aired On']]\n",
        "days = [element for innerList in days for element in innerList]\n",
        "days[:5]"
      ],
      "metadata": {
        "colab": {
          "base_uri": "https://localhost:8080/"
        },
        "id": "WEAx4j0Pdg9S",
        "outputId": "6d4ea496-132a-4551-c72f-8fb533814bd6"
      },
      "execution_count": 6,
      "outputs": [
        {
          "output_type": "execute_result",
          "data": {
            "text/plain": [
              "['Friday', 'Thursday', 'Thursday', 'Wednesday', 'Thursday']"
            ]
          },
          "metadata": {},
          "execution_count": 6
        }
      ]
    },
    {
      "cell_type": "code",
      "source": [
        "plt.figure(figsize=(7,7))\n",
        "\n",
        "pd.DataFrame(days).value_counts().plot(kind='barh')\n",
        "\n",
        "plt.gca().invert_yaxis()\n",
        "plt.title(\"Days the Episode air\")\n",
        "plt.xlabel('Frequency')\n",
        "plt.ylabel('Day')\n",
        "plt.show()\n",
        "\n",
        "pd.DataFrame(days).value_counts()"
      ],
      "metadata": {
        "colab": {
          "base_uri": "https://localhost:8080/",
          "height": 606
        },
        "id": "C6YwtoNcd9R8",
        "outputId": "2d5e3d98-4adc-4441-9731-ab7dfb70c8a2"
      },
      "execution_count": 7,
      "outputs": [
        {
          "output_type": "display_data",
          "data": {
            "text/plain": [
              "<Figure size 504x504 with 1 Axes>"
            ],
            "image/png": "[encoded data removed]"
          },
          "metadata": {
            "needs_background": "light"
          }
        },
        {
          "output_type": "execute_result",
          "data": {
            "text/plain": [
              "Saturday     42\n",
              "Tuesday      27\n",
              "Wednesday    27\n",
              "Monday       26\n",
              "Thursday     26\n",
              "Friday       25\n",
              "Sunday       20\n",
              "dtype: int64"
            ]
          },
          "metadata": {},
          "execution_count": 7
        }
      ]
    },
    {
      "cell_type": "markdown",
      "source": [
        "**Number of Episodes**"
      ],
      "metadata": {
        "id": "V6tbV5zIqSs1"
      }
    },
    {
      "cell_type": "code",
      "source": [
        "plt.figure(figsize=(7,7))\n",
        "\n",
        "df['Number of Episode'].value_counts().plot(kind='bar')\n",
        "\n",
        "plt.title(\"Number of Episode\")\n",
        "plt.xlabel('Number of Episodes')\n",
        "plt.xlabel('Frequency')\n",
        "plt.show()\n",
        "\n",
        "df['Number of Episode'].value_counts()"
      ],
      "metadata": {
        "id": "3xw27cQaqZ2f",
        "outputId": "a89d3483-23e2-4fce-88d0-0d0927849c24",
        "colab": {
          "base_uri": "https://localhost:8080/",
          "height": 855
        }
      },
      "execution_count": 8,
      "outputs": [
        {
          "output_type": "display_data",
          "data": {
            "text/plain": [
              "<Figure size 504x504 with 1 Axes>"
            ],
            "image/png": "[encoded data removed]"
          },
          "metadata": {
            "needs_background": "light"
          }
        },
        {
          "output_type": "execute_result",
          "data": {
            "text/plain": [
              "16     43\n",
              "20     13\n",
              "12      9\n",
              "32      5\n",
              "6       5\n",
              "10      4\n",
              "18      3\n",
              "24      3\n",
              "13      2\n",
              "21      2\n",
              "40      2\n",
              "50      1\n",
              "28      1\n",
              "52      1\n",
              "54      1\n",
              "51      1\n",
              "17      1\n",
              "11      1\n",
              "30      1\n",
              "100     1\n",
              "Name: Number of Episode, dtype: int64"
            ]
          },
          "metadata": {},
          "execution_count": 8
        }
      ]
    },
    {
      "cell_type": "markdown",
      "source": [
        "**Airing Netowrk**"
      ],
      "metadata": {
        "id": "QTdPRmUIwVYu"
      }
    },
    {
      "cell_type": "code",
      "source": [
        "networks = []\n",
        "[networks.append(list(set(network.replace(' ','').split(',')))) for network in df['Network']]\n",
        "networks = [element for innerList in networks for element in innerList]\n",
        "days[:5]\n",
        "networks[:5]\n"
      ],
      "metadata": {
        "id": "LX5r-LYzxKn1",
        "outputId": "3dc51d89-eba5-444b-fc5c-99822203fb55",
        "colab": {
          "base_uri": "https://localhost:8080/"
        }
      },
      "execution_count": 9,
      "outputs": [
        {
          "output_type": "execute_result",
          "data": {
            "text/plain": [
              "['Netflix', 'tvN', 'Netflix', 'tvN', 'tvN']"
            ]
          },
          "metadata": {},
          "execution_count": 9
        }
      ]
    },
    {
      "cell_type": "code",
      "source": [
        "plt.figure(figsize=(7,7))\n",
        "\n",
        "pd.DataFrame(networks).value_counts().plot(kind='barh')\n",
        "\n",
        "plt.gca().invert_yaxis()\n",
        "plt.title(\"Networks of Kdramas.\")\n",
        "plt.xlabel('Frequency')\n",
        "plt.ylabel('Streaming/Airing Network')\n",
        "plt.show()\n",
        "\n",
        "pd.DataFrame(networks).value_counts()"
      ],
      "metadata": {
        "id": "mqVAGhAjsEHd",
        "outputId": "ba1e153b-5714-4745-e3ed-b9ca93226806",
        "colab": {
          "base_uri": "https://localhost:8080/",
          "height": 643
        }
      },
      "execution_count": 10,
      "outputs": [
        {
          "output_type": "display_data",
          "data": {
            "text/plain": [
              "<Figure size 504x504 with 1 Axes>"
            ],
            "image/png": "[encoded data removed]"
          },
          "metadata": {
            "needs_background": "light"
          }
        },
        {
          "output_type": "execute_result",
          "data": {
            "text/plain": [
              "tvN            32\n",
              "Netflix        26\n",
              "SBS            19\n",
              "jTBC           14\n",
              "KBS2           11\n",
              "MBC            10\n",
              "OCN             8\n",
              "Viki            2\n",
              "DaumKakaoTV     1\n",
              "dtype: int64"
            ]
          },
          "metadata": {},
          "execution_count": 10
        }
      ]
    },
    {
      "cell_type": "markdown",
      "source": [
        "**Duration of each episode**"
      ],
      "metadata": {
        "id": "R_KJsIi2xXwS"
      }
    },
    {
      "cell_type": "code",
      "source": [
        "df['Duration'].unique()"
      ],
      "metadata": {
        "id": "5grB8uwlxe17",
        "outputId": "c48fd6fe-834d-4d00-eb38-7b1dd83e8241",
        "colab": {
          "base_uri": "https://localhost:8080/"
        }
      },
      "execution_count": 11,
      "outputs": [
        {
          "output_type": "execute_result",
          "data": {
            "text/plain": [
              "array(['52 min.', '1 hr. 30 min.', '1 hr. 10 min.', '1 hr. 17 min.',\n",
              "       '1 hr. 32 min.', '1 hr. 15 min.', '1 hr. 40 min.', '1 hr. 5 min.',\n",
              "       '1 hr. 20 min.', '1 hr. 3 min.', '1 hr. 25 min.', '45 min.',\n",
              "       '60 min.', '1 hr. 22 min.', '51 min.', '1 hr. 7 min.', '30 min.',\n",
              "       '1 hr. 2 min.', '1 hr. 21 min.', '35 min.', '1 hr. 6 min.',\n",
              "       '58 min.', '1 hr. 8 min.', '1 hr. 13 min.', '1 hr. 9 min.'],\n",
              "      dtype=object)"
            ]
          },
          "metadata": {},
          "execution_count": 11
        }
      ]
    },
    {
      "cell_type": "code",
      "source": [
        "from datetime import datetime, timedelta\n",
        "\n",
        "def convert_to_minutes(duration):\n",
        "  if 'hr.' not in duration:\n",
        "    # The duration is in minutes\n",
        "    minutes = int(duration.replace('min.', ''))\n",
        "    return minutes\n",
        "  else:\n",
        "    # Parse the duration string as a time duration\n",
        "    td = datetime.strptime(duration, '%H hr. %M min.')\n",
        "    # Convert the time duration to a timedelta object\n",
        "    td = timedelta(hours=td.hour, minutes=td.minute)\n",
        "    # Get the total number of minutes in the timedelta object\n",
        "    total_minutes = int(td.total_seconds() / 60)\n",
        "    return total_minutes"
      ],
      "metadata": {
        "id": "zehy6eZVxiH5"
      },
      "execution_count": 12,
      "outputs": []
    },
    {
      "cell_type": "code",
      "source": [
        "df['Duration'] = df['Duration'].apply(convert_to_minutes)"
      ],
      "metadata": {
        "id": "s_zGX6p3lmgK"
      },
      "execution_count": 13,
      "outputs": []
    },
    {
      "cell_type": "code",
      "source": [
        "plt.figure(figsize=(7,7))\n",
        "\n",
        "df['Duration'].value_counts().plot(kind='bar')\n",
        "\n",
        "plt.gca()\n",
        "plt.title(\"Duration of Episode\")\n",
        "plt.xlabel('Average duration of an episode')\n",
        "plt.xlabel('Frequency')\n",
        "plt.show()\n",
        "\n",
        "df['Duration'].value_counts()"
      ],
      "metadata": {
        "colab": {
          "base_uri": "https://localhost:8080/",
          "height": 947
        },
        "id": "6fNYpbnBoFO8",
        "outputId": "d99b46b5-7151-42b9-df17-2c6cc20c5cfe"
      },
      "execution_count": 14,
      "outputs": [
        {
          "output_type": "display_data",
          "data": {
            "text/plain": [
              "<Figure size 504x504 with 1 Axes>"
            ],
            "image/png": "[encoded data removed]"
          },
          "metadata": {
            "needs_background": "light"
          }
        },
        {
          "output_type": "execute_result",
          "data": {
            "text/plain": [
              "60     22\n",
              "70     19\n",
              "65     11\n",
              "35      8\n",
              "80      7\n",
              "75      6\n",
              "62      4\n",
              "85      3\n",
              "30      2\n",
              "67      2\n",
              "52      2\n",
              "45      1\n",
              "90      1\n",
              "82      1\n",
              "51      1\n",
              "63      1\n",
              "100     1\n",
              "92      1\n",
              "81      1\n",
              "77      1\n",
              "66      1\n",
              "58      1\n",
              "68      1\n",
              "73      1\n",
              "69      1\n",
              "Name: Duration, dtype: int64"
            ]
          },
          "metadata": {},
          "execution_count": 14
        }
      ]
    },
    {
      "cell_type": "markdown",
      "source": [
        "**Content Rating**"
      ],
      "metadata": {
        "id": "4imxMT-bezst"
      }
    },
    {
      "cell_type": "code",
      "source": [
        "plt.figure(figsize=(7,7))\n",
        "df['Content Rating'].value_counts().plot(kind='pie',autopct='%.2f%%')\n",
        "plt.title(\"Content Rating\")\n",
        "plt.show()"
      ],
      "metadata": {
        "colab": {
          "base_uri": "https://localhost:8080/",
          "height": 427
        },
        "id": "oOPW3Btce2F7",
        "outputId": "aea2cc20-df9a-489a-928e-251d0535dc31"
      },
      "execution_count": 15,
      "outputs": [
        {
          "output_type": "display_data",
          "data": {
            "text/plain": [
              "<Figure size 504x504 with 1 Axes>"
            ],
            "image/png": "[encoded data removed]"
          },
          "metadata": {}
        }
      ]
    },
    {
      "cell_type": "markdown",
      "source": [
        "**Rating**"
      ],
      "metadata": {
        "id": "sfFcM7XgfIGQ"
      }
    },
    {
      "cell_type": "code",
      "source": [
        "df[['Rating']].describe()"
      ],
      "metadata": {
        "colab": {
          "base_uri": "https://localhost:8080/",
          "height": 300
        },
        "id": "s6251wTFfHxo",
        "outputId": "2bb3cbac-3402-476b-c76c-0b4bf3b32d5d"
      },
      "execution_count": 16,
      "outputs": [
        {
          "output_type": "execute_result",
          "data": {
            "text/plain": [
              "           Rating\n",
              "count  100.000000\n",
              "mean     8.703000\n",
              "std      0.178351\n",
              "min      8.500000\n",
              "25%      8.600000\n",
              "50%      8.700000\n",
              "75%      8.800000\n",
              "max      9.200000"
            ],
            "text/html": [
              "\n",
              "  <div id=\"df-8fb181ba-97b0-4f81-969f-0632260de030\">\n",
              "    <div class=\"colab-df-container\">\n",
              "      <div>\n",
              "<style scoped>\n",
              "    .dataframe tbody tr th:only-of-type {\n",
              "        vertical-align: middle;\n",
              "    }\n",
              "\n",
              "    .dataframe tbody tr th {\n",
              "        vertical-align: top;\n",
              "    }\n",
              "\n",
              "    .dataframe thead th {\n",
              "        text-align: right;\n",
              "    }\n",
              "</style>\n",
              "<table border=\"1\" class=\"dataframe\">\n",
              "  <thead>\n",
              "    <tr style=\"text-align: right;\">\n",
              "      <th></th>\n",
              "      <th>Rating</th>\n",
              "    </tr>\n",
              "  </thead>\n",
              "  <tbody>\n",
              "    <tr>\n",
              "      <th>count</th>\n",
              "      <td>100.000000</td>\n",
              "    </tr>\n",
              "    <tr>\n",
              "      <th>mean</th>\n",
              "      <td>8.703000</td>\n",
              "    </tr>\n",
              "    <tr>\n",
              "      <th>std</th>\n",
              "      <td>0.178351</td>\n",
              "    </tr>\n",
              "    <tr>\n",
              "      <th>min</th>\n",
              "      <td>8.500000</td>\n",
              "    </tr>\n",
              "    <tr>\n",
              "      <th>25%</th>\n",
              "      <td>8.600000</td>\n",
              "    </tr>\n",
              "    <tr>\n",
              "      <th>50%</th>\n",
              "      <td>8.700000</td>\n",
              "    </tr>\n",
              "    <tr>\n",
              "      <th>75%</th>\n",
              "      <td>8.800000</td>\n",
              "    </tr>\n",
              "    <tr>\n",
              "      <th>max</th>\n",
              "      <td>9.200000</td>\n",
              "    </tr>\n",
              "  </tbody>\n",
              "</table>\n",
              "</div>\n",
              "      <button class=\"colab-df-convert\" onclick=\"convertToInteractive('df-8fb181ba-97b0-4f81-969f-0632260de030')\"\n",
              "              title=\"Convert this dataframe to an interactive table.\"\n",
              "              style=\"display:none;\">\n",
              "        \n",
              "  <svg xmlns=\"http://www.w3.org/2000/svg\" height=\"24px\"viewBox=\"0 0 24 24\"\n",
              "       width=\"24px\">\n",
              "    <path d=\"M0 0h24v24H0V0z\" fill=\"none\"/>\n",
              "    <path d=\"M18.56 5.44l.94 2.06.94-2.06 2.06-.94-2.06-.94-.94-2.06-.94 2.06-2.06.94zm-11 1L8.5 8.5l.94-2.06 2.06-.94-2.06-.94L8.5 2.5l-.94 2.06-2.06.94zm10 10l.94 2.06.94-2.06 2.06-.94-2.06-.94-.94-2.06-.94 2.06-2.06.94z\"/><path d=\"M17.41 7.96l-1.37-1.37c-.4-.4-.92-.59-1.43-.59-.52 0-1.04.2-1.43.59L10.3 9.45l-7.72 7.72c-.78.78-.78 2.05 0 2.83L4 21.41c.39.39.9.59 1.41.59.51 0 1.02-.2 1.41-.59l7.78-7.78 2.81-2.81c.8-.78.8-2.07 0-2.86zM5.41 20L4 18.59l7.72-7.72 1.47 1.35L5.41 20z\"/>\n",
              "  </svg>\n",
              "      </button>\n",
              "      \n",
              "  <style>\n",
              "    .colab-df-container {\n",
              "      display:flex;\n",
              "      flex-wrap:wrap;\n",
              "      gap: 12px;\n",
              "    }\n",
              "\n",
              "    .colab-df-convert {\n",
              "      background-color: #E8F0FE;\n",
              "      border: none;\n",
              "      border-radius: 50%;\n",
              "      cursor: pointer;\n",
              "      display: none;\n",
              "      fill: #1967D2;\n",
              "      height: 32px;\n",
              "      padding: 0 0 0 0;\n",
              "      width: 32px;\n",
              "    }\n",
              "\n",
              "    .colab-df-convert:hover {\n",
              "      background-color: #E2EBFA;\n",
              "      box-shadow: 0px 1px 2px rgba(60, 64, 67, 0.3), 0px 1px 3px 1px rgba(60, 64, 67, 0.15);\n",
              "      fill: #174EA6;\n",
              "    }\n",
              "\n",
              "    [theme=dark] .colab-df-convert {\n",
              "      background-color: #3B4455;\n",
              "      fill: #D2E3FC;\n",
              "    }\n",
              "\n",
              "    [theme=dark] .colab-df-convert:hover {\n",
              "      background-color: #434B5C;\n",
              "      box-shadow: 0px 1px 3px 1px rgba(0, 0, 0, 0.15);\n",
              "      filter: drop-shadow(0px 1px 2px rgba(0, 0, 0, 0.3));\n",
              "      fill: #FFFFFF;\n",
              "    }\n",
              "  </style>\n",
              "\n",
              "      <script>\n",
              "        const buttonEl =\n",
              "          document.querySelector('#df-8fb181ba-97b0-4f81-969f-0632260de030 button.colab-df-convert');\n",
              "        buttonEl.style.display =\n",
              "          google.colab.kernel.accessAllowed ? 'block' : 'none';\n",
              "\n",
              "        async function convertToInteractive(key) {\n",
              "          const element = document.querySelector('#df-8fb181ba-97b0-4f81-969f-0632260de030');\n",
              "          const dataTable =\n",
              "            await google.colab.kernel.invokeFunction('convertToInteractive',\n",
              "                                                     [key], {});\n",
              "          if (!dataTable) return;\n",
              "\n",
              "          const docLinkHtml = 'Like what you see? Visit the ' +\n",
              "            '<a target=\"_blank\" href=https://colab.research.google.com/notebooks/data_table.ipynb>data table notebook</a>'\n",
              "            + ' to learn more about interactive tables.';\n",
              "          element.innerHTML = '';\n",
              "          dataTable['output_type'] = 'display_data';\n",
              "          await google.colab.output.renderOutput(dataTable, element);\n",
              "          const docLink = document.createElement('div');\n",
              "          docLink.innerHTML = docLinkHtml;\n",
              "          element.appendChild(docLink);\n",
              "        }\n",
              "      </script>\n",
              "    </div>\n",
              "  </div>\n",
              "  "
            ]
          },
          "metadata": {},
          "execution_count": 16
        }
      ]
    },
    {
      "cell_type": "markdown",
      "source": [
        "**Genre**"
      ],
      "metadata": {
        "id": "cvxvdSdVpeDP"
      }
    },
    {
      "cell_type": "code",
      "source": [
        "gen = []\n",
        "[gen.append(g.replace(' ','').split(',')) for g in df['Genre']]\n",
        "gen = [element for innerList in gen for element in innerList]\n",
        "gen[:5]"
      ],
      "metadata": {
        "colab": {
          "base_uri": "https://localhost:8080/"
        },
        "id": "nW0mm-EqM0x7",
        "outputId": "540532ba-ddb5-49fb-c78c-7c0b4e2a39fc"
      },
      "execution_count": 17,
      "outputs": [
        {
          "output_type": "execute_result",
          "data": {
            "text/plain": [
              "['Life', 'Drama', 'Family', 'Friendship', 'Romance']"
            ]
          },
          "metadata": {},
          "execution_count": 17
        }
      ]
    },
    {
      "cell_type": "code",
      "source": [
        "plt.figure(figsize=(7,7))\n",
        "\n",
        "pd.DataFrame(gen).value_counts().plot(kind='bar')\n",
        "\n",
        "plt.gca()\n",
        "plt.title(\"Genre\")\n",
        "plt.xlabel('Genre')\n",
        "plt.xlabel('Frequency')\n",
        "plt.show()\n",
        "\n",
        "pd.DataFrame(gen).value_counts()"
      ],
      "metadata": {
        "colab": {
          "base_uri": "https://localhost:8080/",
          "height": 1000
        },
        "id": "E1RrP_7rR9fP",
        "outputId": "cb8e939a-ed81-4355-8cbb-ab05d4e520da"
      },
      "execution_count": 18,
      "outputs": [
        {
          "output_type": "display_data",
          "data": {
            "text/plain": [
              "<Figure size 504x504 with 1 Axes>"
            ],
            "image/png": "[encoded data removed]"
          },
          "metadata": {
            "needs_background": "light"
          }
        },
        {
          "output_type": "execute_result",
          "data": {
            "text/plain": [
              "Drama            71\n",
              "Romance          53\n",
              "Comedy           42\n",
              "Thriller         32\n",
              "Mystery          30\n",
              "Life             20\n",
              "Crime            20\n",
              "Family           20\n",
              "Action           19\n",
              "Friendship       18\n",
              "Melodrama        18\n",
              "Fantasy          16\n",
              "Psychological    16\n",
              "Historical       15\n",
              "Political        12\n",
              "Supernatural     11\n",
              "Suspense         10\n",
              "Business          8\n",
              "Youth             8\n",
              "Medical           7\n",
              "Law               7\n",
              "Horror            7\n",
              "School            5\n",
              "Military          3\n",
              "Sci-Fi            3\n",
              "Sports            3\n",
              "Investigation     2\n",
              "Food              2\n",
              "Zombies           2\n",
              "Music             1\n",
              "MartialArts       1\n",
              "dtype: int64"
            ]
          },
          "metadata": {},
          "execution_count": 18
        }
      ]
    },
    {
      "cell_type": "markdown",
      "source": [
        "**Cast**"
      ],
      "metadata": {
        "id": "wCYzVQfKSvhW"
      }
    },
    {
      "cell_type": "code",
      "source": [
        "cast = []\n",
        "[cast.append(c.split(', ')) for c in df['Cast']]\n",
        "cast = [element for innerList in cast for element in innerList]\n",
        "cast[:5]"
      ],
      "metadata": {
        "colab": {
          "base_uri": "https://localhost:8080/"
        },
        "id": "731uPMkaSvDq",
        "outputId": "5029e7d5-c632-42ea-d857-0319ea1860a7"
      },
      "execution_count": 19,
      "outputs": [
        {
          "output_type": "execute_result",
          "data": {
            "text/plain": [
              "['Lee Je Hoon',\n",
              " 'Tang Jun Sang',\n",
              " 'Hong Seung Hee',\n",
              " 'Jung Suk Yong',\n",
              " 'Jung Young Joo']"
            ]
          },
          "metadata": {},
          "execution_count": 19
        }
      ]
    },
    {
      "cell_type": "code",
      "source": [
        "# pd.DataFrame(cast).value_counts().plot(kind='bar')\n",
        "\n",
        "# plt.gca()\n",
        "# plt.title(\"Brand\")\n",
        "# plt.show()\n",
        "\n",
        "pd.DataFrame(cast).value_counts()"
      ],
      "metadata": {
        "colab": {
          "base_uri": "https://localhost:8080/"
        },
        "id": "KpTvSi-7TUH_",
        "outputId": "1327a627-34cf-4ff3-f28b-016504b1591d"
      },
      "execution_count": 34,
      "outputs": [
        {
          "output_type": "execute_result",
          "data": {
            "text/plain": [
              "Lee Joon Hyuk    5\n",
              "Kim Ji Won       5\n",
              "Song Joong Ki    5\n",
              "Park Seo Joon    4\n",
              "Jun Suk Ho       4\n",
              "                ..\n",
              "Ahn Eun Jin      1\n",
              "Kim Yeo Jin      1\n",
              "Heo Jung Min     1\n",
              "Kim Tae Woo      1\n",
              "Youn Yuh Jung    1\n",
              "Length: 426, dtype: int64"
            ]
          },
          "metadata": {},
          "execution_count": 34
        }
      ]
    },
    {
      "cell_type": "markdown",
      "source": [
        "**Tags**"
      ],
      "metadata": {
        "id": "PNPpy3uyaJrD"
      }
    },
    {
      "cell_type": "code",
      "source": [
        "tags = []\n",
        "[tags.append(g.split(', ')) for g in df['Tags']]\n",
        "tags = [element for innerList in tags for element in innerList]\n",
        "tags[:5]"
      ],
      "metadata": {
        "colab": {
          "base_uri": "https://localhost:8080/"
        },
        "id": "6Mv8TPbbaLLI",
        "outputId": "107d55dc-df14-421b-8193-1b74a8c7d7e4"
      },
      "execution_count": 21,
      "outputs": [
        {
          "output_type": "execute_result",
          "data": {
            "text/plain": [
              "['Autism',\n",
              " 'Father-Son Relationship',\n",
              " 'Uncle-Nephew Relationship',\n",
              " 'Death Of A Parent',\n",
              " 'Savant Syndrome']"
            ]
          },
          "metadata": {},
          "execution_count": 21
        }
      ]
    },
    {
      "cell_type": "code",
      "source": [
        "# plt.figure(figsize=(7,7))\n",
        "\n",
        "# pd.DataFrame(tags).value_counts().plot(kind='bar')\n",
        "\n",
        "# plt.gca()\n",
        "# plt.title(\"Tags\")\n",
        "# plt.xlabel('Frequency')\n",
        "# plt.show()\n",
        "\n",
        "pd.DataFrame(tags).value_counts()"
      ],
      "metadata": {
        "colab": {
          "base_uri": "https://localhost:8080/"
        },
        "id": "NPh7vxYJaZSa",
        "outputId": "5a138936-19b8-4b2a-ae60-af6bb9676890"
      },
      "execution_count": 22,
      "outputs": [
        {
          "output_type": "execute_result",
          "data": {
            "text/plain": [
              "Strong Female Lead    41\n",
              "Smart Female Lead     23\n",
              "Smart Male Lead       20\n",
              "Bromance              17\n",
              "Murder                17\n",
              "                      ..\n",
              "Dokkaebi               1\n",
              "Divorced Couple        1\n",
              "Nerdy Male Lead        1\n",
              "Neurosurgeon           1\n",
              "Yuan Dynasty           1\n",
              "Length: 400, dtype: int64"
            ]
          },
          "metadata": {},
          "execution_count": 22
        }
      ]
    }
  ]
}